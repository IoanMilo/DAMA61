{
  "cells": [
    {
      "cell_type": "markdown",
      "metadata": {
        "id": "view-in-github",
        "colab_type": "text"
      },
      "source": [
        "<a href=\"https://colab.research.google.com/github/IoanMilo/DAMA61/blob/main/%CE%91%CE%BD%CF%84%CE%AF%CE%B3%CF%81%CE%B1%CF%86%CE%BF_MILONAS.ipynb\" target=\"_parent\"><img src=\"https://colab.research.google.com/assets/colab-badge.svg\" alt=\"Open In Colab\"/></a>"
      ]
    },
    {
      "cell_type": "markdown",
      "id": "2311a9e7-7e35-47bb-9cf7-f9eec660b887",
      "metadata": {
        "id": "2311a9e7-7e35-47bb-9cf7-f9eec660b887"
      },
      "source": [
        "Problem 1\n",
        "Work with the MNIST dataset and:\n",
        "1) Split it into a training (5/7), a validation (1/7), and a test (1/7) set.\n",
        "2) Use Keras to built a feed-forward neural network that contains three hidden dense layers of 50 nodes\n",
        "each.\n",
        "3) Compile the model using the Adam optimizer, a loss function of your choice and add accuracy in your\n",
        "metrics.\n",
        "4) What is the number of the trainable parameters of your model?\n",
        "5) Fit the model on the training data (allow 100 epochs) and use early stopping with patience 5 epochs\n",
        "to monitor the validation set.\n",
        "6) Plot the history of the loss and accuracy of the training process for the training and the validation set.\n",
        "7) What is the accuracy of your model on the test set?\n",
        "Feel free to take any action needed to solve this problem."
      ]
    },
    {
      "cell_type": "markdown",
      "id": "c1447890-2519-4e60-8f36-97b2be3164e2",
      "metadata": {
        "id": "c1447890-2519-4e60-8f36-97b2be3164e2"
      },
      "source": [
        "**1)** Split it into a training (5/7), a validation (1/7), and a test (1/7) set."
      ]
    },
    {
      "cell_type": "code",
      "execution_count": null,
      "id": "ec8f781b-66d5-45f0-9cb7-c1296d199e55",
      "metadata": {
        "tags": [],
        "id": "ec8f781b-66d5-45f0-9cb7-c1296d199e55",
        "outputId": "c79af745-38e3-411d-d491-d1880c4bf9cb"
      },
      "outputs": [
        {
          "name": "stdout",
          "output_type": "stream",
          "text": [
            "WARNING:tensorflow:From C:\\Users\\gmilonas\\AppData\\Local\\anaconda3\\lib\\site-packages\\keras\\src\\losses.py:2976: The name tf.losses.sparse_softmax_cross_entropy is deprecated. Please use tf.compat.v1.losses.sparse_softmax_cross_entropy instead.\n",
            "\n"
          ]
        }
      ],
      "source": [
        "# Install tensorflow in order to use the API library.\n",
        "# pip install tensorflow\n",
        "\n",
        "# Import the API to use library functions\n",
        "import tensorflow as tf\n",
        "#assert version.parse(tf.__version__) >= version.parse(\"2.8.0\")\n",
        "\n",
        "# Load the MNIST dataset\n",
        "mnist = tf.keras.datasets.mnist.load_data()"
      ]
    },
    {
      "cell_type": "code",
      "execution_count": null,
      "id": "df1041e0-bf8d-4ec5-9dd6-7715c4130f0e",
      "metadata": {
        "tags": [],
        "id": "df1041e0-bf8d-4ec5-9dd6-7715c4130f0e",
        "outputId": "17d06aab-4408-4a1d-b664-6fcf4e469aa3"
      },
      "outputs": [
        {
          "name": "stdout",
          "output_type": "stream",
          "text": [
            "Train set (50000, 28, 28) (50000,)\n",
            "Validation set: (10000, 28, 28) (10000,)\n",
            "Test set: (10000, 28, 28) (10000,)\n"
          ]
        }
      ],
      "source": [
        "(X_train_full, y_train_full), (X_test, y_test) = mnist\n",
        "X_train_full.shape, X_test.shape\n",
        "X_train, y_train = X_train_full[:-10000], y_train_full[:-10000]\n",
        "print('Train set', X_train.shape, y_train.shape)\n",
        "X_valid, y_valid = X_train_full[-10000:], y_train_full[-10000:]\n",
        "print('Validation set:', X_valid.shape, y_valid.shape)\n",
        "print('Test set:', X_test.shape, y_test.shape)"
      ]
    },
    {
      "cell_type": "code",
      "execution_count": null,
      "id": "f6c55fc6-24ee-4027-9c41-5c17abaf40e6",
      "metadata": {
        "tags": [],
        "id": "f6c55fc6-24ee-4027-9c41-5c17abaf40e6",
        "outputId": "51bc35ab-5916-435b-f976-72569d3cb9ec"
      },
      "outputs": [
        {
          "data": {
            "image/png": "[encoded data removed]",
            "text/plain": [
              "<Figure size 640x480 with 1 Axes>"
            ]
          },
          "metadata": {},
          "output_type": "display_data"
        }
      ],
      "source": [
        "# show an image\n",
        "import matplotlib.pyplot as plt\n",
        "\n",
        "plt.imshow(X_train[1], cmap=\"binary\")\n",
        "plt.axis('off')\n",
        "plt.show()"
      ]
    },
    {
      "cell_type": "markdown",
      "id": "446b6897-5664-40fe-a1c0-2b6ccf3ad783",
      "metadata": {
        "id": "446b6897-5664-40fe-a1c0-2b6ccf3ad783"
      },
      "source": [
        "Let's scale the pixel intensities down to the 0-1 range and convert them to floats, by dividing by 255:"
      ]
    },
    {
      "cell_type": "code",
      "execution_count": null,
      "id": "3030cd7e-a4fa-45dc-a8f8-c27fb60ae1e0",
      "metadata": {
        "tags": [],
        "id": "3030cd7e-a4fa-45dc-a8f8-c27fb60ae1e0"
      },
      "outputs": [],
      "source": [
        "X_train, X_valid, X_test = X_train / 255., X_valid / 255., X_test / 255."
      ]
    },
    {
      "cell_type": "markdown",
      "id": "60891afe-b6d8-4ea0-8054-dabd89445a5f",
      "metadata": {
        "id": "60891afe-b6d8-4ea0-8054-dabd89445a5f"
      },
      "source": [
        "**2)** Use Keras to built a feed-forward neural network that contains three hidden dense layers of 50 nodes\n",
        "each."
      ]
    },
    {
      "cell_type": "markdown",
      "id": "86dc720c-2cc1-4be8-bcbf-8619a2938524",
      "metadata": {
        "tags": [],
        "id": "86dc720c-2cc1-4be8-bcbf-8619a2938524"
      },
      "source": [
        "### Creating the model using the Sequential API"
      ]
    },
    {
      "cell_type": "code",
      "execution_count": null,
      "id": "5b9160b9-a355-4ed4-8d41-01fa05972b07",
      "metadata": {
        "tags": [],
        "id": "5b9160b9-a355-4ed4-8d41-01fa05972b07",
        "outputId": "2858e92d-f3e2-42dd-dbe8-f95ddc3ce442"
      },
      "outputs": [
        {
          "name": "stdout",
          "output_type": "stream",
          "text": [
            "WARNING:tensorflow:From C:\\Users\\gmilonas\\AppData\\Local\\anaconda3\\lib\\site-packages\\keras\\src\\backend.py:873: The name tf.get_default_graph is deprecated. Please use tf.compat.v1.get_default_graph instead.\n",
            "\n"
          ]
        }
      ],
      "source": [
        "tf.random.set_seed(42)\n",
        "model = tf.keras.Sequential()"
      ]
    },
    {
      "cell_type": "code",
      "execution_count": null,
      "id": "65dd33de-940f-4a37-be4f-37eef44edeb0",
      "metadata": {
        "tags": [],
        "id": "65dd33de-940f-4a37-be4f-37eef44edeb0"
      },
      "outputs": [],
      "source": [
        "model.add(tf.keras.layers.InputLayer(input_shape=[28, 28]))\n",
        "model.add(tf.keras.layers.Flatten())\n",
        "model.add(tf.keras.layers.Dense(50, activation=\"relu\"))\n",
        "model.add(tf.keras.layers.Dense(50, activation=\"relu\"))\n",
        "model.add(tf.keras.layers.Dense(50, activation=\"relu\"))\n",
        "model.add(tf.keras.layers.Dense(10, activation=\"softmax\"))"
      ]
    },
    {
      "cell_type": "code",
      "execution_count": null,
      "id": "7082c011-340c-42d5-95e7-c38fa84f9839",
      "metadata": {
        "tags": [],
        "id": "7082c011-340c-42d5-95e7-c38fa84f9839",
        "outputId": "34024ebb-d6ba-4553-b87a-d76efb6920c4"
      },
      "outputs": [
        {
          "name": "stdout",
          "output_type": "stream",
          "text": [
            "Model: \"sequential\"\n",
            "_________________________________________________________________\n",
            " Layer (type)                Output Shape              Param #   \n",
            "=================================================================\n",
            " flatten (Flatten)           (None, 784)               0         \n",
            "                                                                 \n",
            " dense (Dense)               (None, 50)                39250     \n",
            "                                                                 \n",
            " dense_1 (Dense)             (None, 50)                2550      \n",
            "                                                                 \n",
            " dense_2 (Dense)             (None, 50)                2550      \n",
            "                                                                 \n",
            " dense_3 (Dense)             (None, 10)                510       \n",
            "                                                                 \n",
            "=================================================================\n",
            "Total params: 44860 (175.23 KB)\n",
            "Trainable params: 44860 (175.23 KB)\n",
            "Non-trainable params: 0 (0.00 Byte)\n",
            "_________________________________________________________________\n"
          ]
        }
      ],
      "source": [
        "model.summary()"
      ]
    },
    {
      "cell_type": "code",
      "execution_count": null,
      "id": "11d1c419-281d-4c19-8622-d223bc623d14",
      "metadata": {
        "tags": [],
        "id": "11d1c419-281d-4c19-8622-d223bc623d14",
        "outputId": "d8b774f1-f6e8-4bd0-eda8-1269743b4536"
      },
      "outputs": [
        {
          "data": {
            "image/png": "[encoded data removed]",
            "text/plain": [
              "<IPython.core.display.Image object>"
            ]
          },
          "execution_count": 8,
          "metadata": {},
          "output_type": "execute_result"
        }
      ],
      "source": [
        "#extra code – another way to display the model's architecture\n",
        "tf.keras.utils.plot_model(model, \"my_mnist_model.png\", show_shapes=True)"
      ]
    },
    {
      "cell_type": "code",
      "execution_count": null,
      "id": "088c6fd3-ce4a-4bb8-b26e-16650d009074",
      "metadata": {
        "tags": [],
        "id": "088c6fd3-ce4a-4bb8-b26e-16650d009074",
        "outputId": "71330c5c-fdf0-440f-c777-fda751bc7dd6"
      },
      "outputs": [
        {
          "data": {
            "text/plain": [
              "[<keras.src.layers.reshaping.flatten.Flatten at 0x273e4b7ad40>,\n",
              " <keras.src.layers.core.dense.Dense at 0x273e4b7bfd0>,\n",
              " <keras.src.layers.core.dense.Dense at 0x273e4b797e0>,\n",
              " <keras.src.layers.core.dense.Dense at 0x273fe4c4160>,\n",
              " <keras.src.layers.core.dense.Dense at 0x273fe4c54e0>]"
            ]
          },
          "execution_count": 9,
          "metadata": {},
          "output_type": "execute_result"
        }
      ],
      "source": [
        "model.layers"
      ]
    },
    {
      "cell_type": "code",
      "execution_count": null,
      "id": "23ff4d1a-ad82-4caa-95aa-c51bf14a7b12",
      "metadata": {
        "tags": [],
        "id": "23ff4d1a-ad82-4caa-95aa-c51bf14a7b12",
        "outputId": "00006eee-053d-4292-bb54-4332e4f1ff70"
      },
      "outputs": [
        {
          "data": {
            "text/plain": [
              "'dense'"
            ]
          },
          "execution_count": 13,
          "metadata": {},
          "output_type": "execute_result"
        }
      ],
      "source": [
        "hidden1 = model.layers[1]\n",
        "hidden1.name"
      ]
    },
    {
      "cell_type": "code",
      "execution_count": null,
      "id": "a2e62204-70f8-4df6-9455-a43acd021111",
      "metadata": {
        "tags": [],
        "id": "a2e62204-70f8-4df6-9455-a43acd021111",
        "outputId": "3cdc9288-595b-48bc-defe-d99e3d209512"
      },
      "outputs": [
        {
          "data": {
            "text/plain": [
              "(784, 50)"
            ]
          },
          "execution_count": 15,
          "metadata": {},
          "output_type": "execute_result"
        }
      ],
      "source": [
        "weights, biases = hidden1.get_weights()\n",
        "weights.shape"
      ]
    },
    {
      "cell_type": "code",
      "execution_count": null,
      "id": "40022173-0af4-4db0-8277-141a0080ef92",
      "metadata": {
        "tags": [],
        "id": "40022173-0af4-4db0-8277-141a0080ef92",
        "outputId": "0c730160-10a6-451f-c0d6-1d9027a8bdf3"
      },
      "outputs": [
        {
          "name": "stdout",
          "output_type": "stream",
          "text": [
            "[0. 0. 0. 0. 0. 0. 0. 0. 0. 0. 0. 0. 0. 0. 0. 0. 0. 0. 0. 0. 0. 0. 0. 0.\n",
            " 0. 0. 0. 0. 0. 0. 0. 0. 0. 0. 0. 0. 0. 0. 0. 0. 0. 0. 0. 0. 0. 0. 0. 0.\n",
            " 0. 0.]\n"
          ]
        }
      ],
      "source": [
        "biases.shape\n",
        "print(biases)"
      ]
    },
    {
      "cell_type": "markdown",
      "id": "8693d359-6a5b-4f72-a560-c4ecc726dc8a",
      "metadata": {
        "id": "8693d359-6a5b-4f72-a560-c4ecc726dc8a"
      },
      "source": [
        "**3)** Compile the model using the Adam optimizer, a loss function of your choice and add accuracy in your\n",
        "metrics."
      ]
    },
    {
      "cell_type": "markdown",
      "id": "91388aab-e470-40a0-ad88-8f5a69122d33",
      "metadata": {
        "id": "91388aab-e470-40a0-ad88-8f5a69122d33"
      },
      "source": [
        "##Compile the model##"
      ]
    },
    {
      "cell_type": "code",
      "execution_count": null,
      "id": "9ade537e-4c48-4f9d-9d16-92973b62343b",
      "metadata": {
        "id": "9ade537e-4c48-4f9d-9d16-92973b62343b"
      },
      "outputs": [],
      "source": []
    },
    {
      "cell_type": "code",
      "execution_count": null,
      "id": "ad4d6797-b925-4102-b183-cd3522f04df8",
      "metadata": {
        "tags": [],
        "id": "ad4d6797-b925-4102-b183-cd3522f04df8",
        "outputId": "5ead5567-2a37-4281-a14d-2e4695395903"
      },
      "outputs": [
        {
          "name": "stdout",
          "output_type": "stream",
          "text": [
            "WARNING:tensorflow:From C:\\Users\\gmilonas\\AppData\\Local\\anaconda3\\lib\\site-packages\\keras\\src\\optimizers\\__init__.py:309: The name tf.train.Optimizer is deprecated. Please use tf.compat.v1.train.Optimizer instead.\n",
            "\n"
          ]
        }
      ],
      "source": [
        "model.compile(loss=\"sparse_categorical_crossentropy\",\n",
        "              optimizer=\"Adam\",\n",
        "              metrics=[\"accuracy\"])"
      ]
    },
    {
      "cell_type": "markdown",
      "id": "da9981f2-113d-4b59-a957-adbc58211a98",
      "metadata": {
        "id": "da9981f2-113d-4b59-a957-adbc58211a98"
      },
      "source": [
        "**4)** What is the number of the trainable parameters of your model?"
      ]
    },
    {
      "cell_type": "markdown",
      "id": "3b7068cb-6d26-4f8b-82e4-06b45f462c10",
      "metadata": {
        "id": "3b7068cb-6d26-4f8b-82e4-06b45f462c10"
      },
      "source": [
        "Trainable params: 44860 (175.23 KB)"
      ]
    },
    {
      "cell_type": "markdown",
      "id": "9c9ebf31-c851-4e66-b244-4f2752f5f3e7",
      "metadata": {
        "id": "9c9ebf31-c851-4e66-b244-4f2752f5f3e7"
      },
      "source": [
        "**5)** Fit the model on the training data (allow 100 epochs) and use early stopping with patience 5 epochs to monitor the validation set."
      ]
    },
    {
      "cell_type": "code",
      "execution_count": null,
      "id": "5f6d22fc-49c1-4512-a8ae-041960d63ab3",
      "metadata": {
        "tags": [],
        "id": "5f6d22fc-49c1-4512-a8ae-041960d63ab3"
      },
      "outputs": [],
      "source": [
        "checkpoint_cb = tf.keras.callbacks.ModelCheckpoint(\"my_checkpoints\", save_weights_only=True)"
      ]
    },
    {
      "cell_type": "code",
      "execution_count": null,
      "id": "3df6d461-2890-4a15-a0fb-ec737339219c",
      "metadata": {
        "tags": [],
        "id": "3df6d461-2890-4a15-a0fb-ec737339219c"
      },
      "outputs": [],
      "source": [
        "#use early stopping with patience 5 epochs to monitor the validation set.\n",
        "early_stopping_cb = tf.keras.callbacks.EarlyStopping(patience=20, restore_best_weights=True)"
      ]
    },
    {
      "cell_type": "code",
      "execution_count": null,
      "id": "1b57fa89-dd5d-412b-a07e-b493c84f4e04",
      "metadata": {
        "tags": [],
        "id": "1b57fa89-dd5d-412b-a07e-b493c84f4e04",
        "outputId": "d3b34675-c9fa-4106-a261-a3d3ba910ca8"
      },
      "outputs": [
        {
          "name": "stdout",
          "output_type": "stream",
          "text": [
            "Epoch 1/100\n",
            "1563/1563 [==============================] - 3s 2ms/step - loss: 0.0058 - accuracy: 0.9987 - val_loss: 0.3926 - val_accuracy: 0.9731\n",
            "Epoch 2/100\n",
            "1563/1563 [==============================] - 4s 2ms/step - loss: 0.0058 - accuracy: 0.9988 - val_loss: 0.3746 - val_accuracy: 0.9746\n",
            "Epoch 3/100\n",
            "1563/1563 [==============================] - 4s 2ms/step - loss: 0.0040 - accuracy: 0.9992 - val_loss: 0.3909 - val_accuracy: 0.9763\n",
            "Epoch 4/100\n",
            "1563/1563 [==============================] - 4s 2ms/step - loss: 0.0060 - accuracy: 0.9986 - val_loss: 0.4189 - val_accuracy: 0.9735\n",
            "Epoch 5/100\n",
            "1563/1563 [==============================] - 4s 3ms/step - loss: 0.0050 - accuracy: 0.9989 - val_loss: 0.3891 - val_accuracy: 0.9759\n",
            "Epoch 6/100\n",
            "1563/1563 [==============================] - 4s 2ms/step - loss: 0.0048 - accuracy: 0.9989 - val_loss: 0.4276 - val_accuracy: 0.9754\n",
            "Epoch 7/100\n",
            "1563/1563 [==============================] - 4s 3ms/step - loss: 0.0066 - accuracy: 0.9987 - val_loss: 0.4279 - val_accuracy: 0.9715\n",
            "Epoch 8/100\n",
            "1563/1563 [==============================] - 4s 3ms/step - loss: 0.0057 - accuracy: 0.9989 - val_loss: 0.3924 - val_accuracy: 0.9744\n",
            "Epoch 9/100\n",
            "1563/1563 [==============================] - 3s 2ms/step - loss: 0.0077 - accuracy: 0.9983 - val_loss: 0.4175 - val_accuracy: 0.9728\n",
            "Epoch 10/100\n",
            "1563/1563 [==============================] - 4s 3ms/step - loss: 0.0054 - accuracy: 0.9988 - val_loss: 0.4421 - val_accuracy: 0.9735\n",
            "Epoch 11/100\n",
            "1563/1563 [==============================] - 4s 3ms/step - loss: 0.0069 - accuracy: 0.9986 - val_loss: 0.4096 - val_accuracy: 0.9756\n",
            "Epoch 12/100\n",
            "1563/1563 [==============================] - 3s 2ms/step - loss: 0.0044 - accuracy: 0.9990 - val_loss: 0.4025 - val_accuracy: 0.9740\n",
            "Epoch 13/100\n",
            "1563/1563 [==============================] - 4s 3ms/step - loss: 0.0095 - accuracy: 0.9983 - val_loss: 0.4338 - val_accuracy: 0.9745\n",
            "Epoch 14/100\n",
            "1563/1563 [==============================] - 4s 2ms/step - loss: 0.0049 - accuracy: 0.9988 - val_loss: 0.4531 - val_accuracy: 0.9731\n",
            "Epoch 15/100\n",
            "1563/1563 [==============================] - 3s 2ms/step - loss: 0.0071 - accuracy: 0.9987 - val_loss: 0.4365 - val_accuracy: 0.9736\n",
            "Epoch 16/100\n",
            "1563/1563 [==============================] - 3s 2ms/step - loss: 0.0050 - accuracy: 0.9990 - val_loss: 0.5062 - val_accuracy: 0.9714\n",
            "Epoch 17/100\n",
            "1563/1563 [==============================] - 5s 3ms/step - loss: 0.0066 - accuracy: 0.9988 - val_loss: 0.4971 - val_accuracy: 0.9709\n",
            "Epoch 18/100\n",
            "1563/1563 [==============================] - 4s 2ms/step - loss: 0.0057 - accuracy: 0.9988 - val_loss: 0.4542 - val_accuracy: 0.9737\n",
            "Epoch 19/100\n",
            "1563/1563 [==============================] - 4s 2ms/step - loss: 0.0066 - accuracy: 0.9986 - val_loss: 0.5007 - val_accuracy: 0.9721\n",
            "Epoch 20/100\n",
            "1563/1563 [==============================] - 4s 2ms/step - loss: 0.0043 - accuracy: 0.9991 - val_loss: 0.4614 - val_accuracy: 0.9752\n",
            "Epoch 21/100\n",
            "1563/1563 [==============================] - 5s 3ms/step - loss: 0.0051 - accuracy: 0.9989 - val_loss: 0.5163 - val_accuracy: 0.9721\n",
            "Epoch 22/100\n",
            "1563/1563 [==============================] - 4s 2ms/step - loss: 0.0058 - accuracy: 0.9991 - val_loss: 0.4980 - val_accuracy: 0.9717\n"
          ]
        }
      ],
      "source": [
        "#Fit the model on the training data\n",
        "history = model.fit(X_train, y_train, epochs=100, callbacks=[checkpoint_cb, early_stopping_cb], validation_data=(X_valid, y_valid))"
      ]
    },
    {
      "cell_type": "code",
      "execution_count": null,
      "id": "a285d0cb-e35c-479f-b944-18b2c8c46f7f",
      "metadata": {
        "tags": [],
        "id": "a285d0cb-e35c-479f-b944-18b2c8c46f7f"
      },
      "outputs": [],
      "source": [
        "class PrintValTrainRatioCallback(tf.keras.callbacks.Callback):\n",
        "    def on_epoch_end(self, epoch, logs):\n",
        "        ratio = logs[\"val_loss\"] / logs[\"loss\"]\n",
        "        print(f\"Epoch={epoch}, val/train={ratio:.2f}\")"
      ]
    },
    {
      "cell_type": "code",
      "execution_count": null,
      "id": "f67ef09a-f222-42f8-b1b9-cb276c7e414c",
      "metadata": {
        "tags": [],
        "id": "f67ef09a-f222-42f8-b1b9-cb276c7e414c",
        "outputId": "e73c2090-46e8-4d59-e0bb-671e5dc1d690"
      },
      "outputs": [
        {
          "ename": "NameError",
          "evalue": "name 'X_train_wide' is not defined",
          "output_type": "error",
          "traceback": [
            "\u001b[1;31m---------------------------------------------------------------------------\u001b[0m",
            "\u001b[1;31mNameError\u001b[0m                                 Traceback (most recent call last)",
            "Cell \u001b[1;32mIn[69], line 3\u001b[0m\n\u001b[0;32m      1\u001b[0m val_train_ratio_cb \u001b[38;5;241m=\u001b[39m PrintValTrainRatioCallback()\n\u001b[0;32m      2\u001b[0m history \u001b[38;5;241m=\u001b[39m model\u001b[38;5;241m.\u001b[39mfit(\n\u001b[1;32m----> 3\u001b[0m     (\u001b[43mX_train_wide\u001b[49m, X_train_deep), (y_train, y_train), epochs\u001b[38;5;241m=\u001b[39m\u001b[38;5;241m10\u001b[39m,\n\u001b[0;32m      4\u001b[0m     validation_data\u001b[38;5;241m=\u001b[39m((X_valid_wide, X_valid_deep), (y_valid, y_valid)),\n\u001b[0;32m      5\u001b[0m     callbacks\u001b[38;5;241m=\u001b[39m[val_train_ratio_cb], verbose\u001b[38;5;241m=\u001b[39m\u001b[38;5;241m0\u001b[39m)\n",
            "\u001b[1;31mNameError\u001b[0m: name 'X_train_wide' is not defined"
          ]
        }
      ],
      "source": [
        "val_train_ratio_cb = PrintValTrainRatioCallback()\n",
        "history = model.fit(\n",
        "    (X_train_wide, X_train_deep), (y_train, y_train), epochs=10,\n",
        "    validation_data=((X_valid_wide, X_valid_deep), (y_valid, y_valid)),\n",
        "    callbacks=[val_train_ratio_cb], verbose=0)"
      ]
    },
    {
      "cell_type": "code",
      "execution_count": null,
      "id": "edb50dc9-63d1-454d-ba17-5d63807dc672",
      "metadata": {
        "tags": [],
        "id": "edb50dc9-63d1-454d-ba17-5d63807dc672",
        "outputId": "8a1c11f5-5d31-4208-eaf2-5917cc3cd12e"
      },
      "outputs": [
        {
          "data": {
            "text/plain": [
              "{'verbose': 1, 'epochs': 100, 'steps': 1563}"
            ]
          },
          "execution_count": 39,
          "metadata": {},
          "output_type": "execute_result"
        }
      ],
      "source": [
        "history.params"
      ]
    },
    {
      "cell_type": "code",
      "execution_count": null,
      "id": "8ba89f82-1abc-4147-af4a-1c0afa21dcc7",
      "metadata": {
        "tags": [],
        "id": "8ba89f82-1abc-4147-af4a-1c0afa21dcc7",
        "outputId": "cf58aaaa-4ff7-4838-8957-72958cbb0ea8"
      },
      "outputs": [
        {
          "name": "stdout",
          "output_type": "stream",
          "text": [
            "[0, 1, 2, 3, 4, 5, 6]\n"
          ]
        }
      ],
      "source": [
        "print(history.epoch)"
      ]
    },
    {
      "cell_type": "code",
      "execution_count": null,
      "id": "8cb7953d-3496-4802-a637-25fec5c8ddfd",
      "metadata": {
        "tags": [],
        "id": "8cb7953d-3496-4802-a637-25fec5c8ddfd",
        "outputId": "4e9d6465-4432-4216-8679-c6eb9d235585"
      },
      "outputs": [
        {
          "data": {
            "text/plain": [
              "{'loss': [0.008088793605566025,\n",
              "  0.008942819200456142,\n",
              "  0.008459769189357758,\n",
              "  0.010425790213048458,\n",
              "  0.005298718810081482],\n",
              " 'accuracy': [0.9978799819946289,\n",
              "  0.9973599910736084,\n",
              "  0.9973800182342529,\n",
              "  0.9972599744796753,\n",
              "  0.9983199834823608],\n",
              " 'val_loss': [0.2350911796092987,\n",
              "  0.2698584198951721,\n",
              "  0.26684877276420593,\n",
              "  0.24911777675151825,\n",
              "  0.27669721841812134],\n",
              " 'val_accuracy': [0.972599983215332,\n",
              "  0.9699000120162964,\n",
              "  0.9714000225067139,\n",
              "  0.9726999998092651,\n",
              "  0.9710999727249146]}"
            ]
          },
          "execution_count": 28,
          "metadata": {},
          "output_type": "execute_result"
        }
      ],
      "source": [
        "# dictionary (history.history) containing the loss and extra metrics # it measured at the end of each epoch on the training set and on #the validation set (if any).\n",
        "history.history"
      ]
    },
    {
      "cell_type": "markdown",
      "id": "59ab0d8e-b069-46db-bc17-0f0b7708f733",
      "metadata": {
        "id": "59ab0d8e-b069-46db-bc17-0f0b7708f733"
      },
      "source": [
        "**SOS 1**--Instead of passing a validation set using the validation_data\n",
        "argument, you could set validation_split to the ratio of the\n",
        "training set that you want Keras to use for validation. For example,\n",
        "validation_split=0.1 tells Keras to use the last 10% of the data\n",
        "(before shuffling) for validation."
      ]
    },
    {
      "cell_type": "markdown",
      "id": "339f35d1-ed30-4226-8f3f-8f9a3fd090a6",
      "metadata": {
        "id": "339f35d1-ed30-4226-8f3f-8f9a3fd090a6"
      },
      "source": [
        "**SOS 2**--If the training set was very skewed, with some classes being overrepresented and\n",
        "others underrepresented, it would be useful to set the class_weight argument when\n",
        "calling the fit() method, to give a larger weight to underrepresented classes and\n",
        "a lower weight to overrepresented classes. These weights would be used by Keras\n",
        "when computing the loss. If you need per-instance weights, set the sample_weight\n",
        "argument. If both class_weight and sample_weight are provided, then Keras multiplies\n",
        "them. Per-instance weights could be useful, for example, if some instances were\n",
        "labeled by experts while others were labeled using a crowdsourcing platform: you\n",
        "might want to give more weight to the former. You can also provide sample weights\n",
        "(but not class weights) for the validation set by adding them as a third item in the\n",
        "validation_data tuple."
      ]
    },
    {
      "cell_type": "markdown",
      "id": "9911dc52-ee17-48f5-88a9-09a3dfc3a1cc",
      "metadata": {
        "id": "9911dc52-ee17-48f5-88a9-09a3dfc3a1cc"
      },
      "source": [
        "**6)** Plot the history of the loss and accuracy of the training process for the training and the validation set."
      ]
    },
    {
      "cell_type": "code",
      "execution_count": null,
      "id": "7f17aaea-86ca-4fff-a23b-5f11c9c8ebf1",
      "metadata": {
        "tags": [],
        "id": "7f17aaea-86ca-4fff-a23b-5f11c9c8ebf1"
      },
      "outputs": [],
      "source": [
        "import matplotlib.pyplot as plt\n",
        "import pandas as pd"
      ]
    },
    {
      "cell_type": "code",
      "execution_count": null,
      "id": "98b2c985-5777-4676-b2e8-c879596ba758",
      "metadata": {
        "tags": [],
        "id": "98b2c985-5777-4676-b2e8-c879596ba758",
        "outputId": "afa8fce9-1dd9-4c6e-eb49-e192565ca630"
      },
      "outputs": [
        {
          "data": {
            "image/png": "[encoded data removed]",
            "text/plain": [
              "<Figure size 800x500 with 1 Axes>"
            ]
          },
          "metadata": {},
          "output_type": "display_data"
        }
      ],
      "source": [
        "pd.DataFrame(history.history).plot(\n",
        "    figsize=(8, 5), xlim=[0, 29], ylim=[0, 1], grid=True, xlabel=\"Epoch\",\n",
        "    style=[\"r--\", \"r--.\", \"b-\", \"b-*\"])\n",
        "plt.show()"
      ]
    },
    {
      "cell_type": "markdown",
      "id": "b4fd1e06-943b-4fd2-a762-2e086fb5a7a4",
      "metadata": {
        "id": "b4fd1e06-943b-4fd2-a762-2e086fb5a7a4"
      },
      "source": [
        "**SOS**--You can see that both the training accuracy and the validation accuracy steadily\n",
        "increase during training, while the training loss and the validation loss decrease. This\n",
        "is good. The validation curves are relatively close to each other at first, but they get\n",
        "further apart over time, which shows that there’s a little bit of overfitting. In this\n",
        "particular case, the model looks like it performed better on the validation set than\n",
        "on the training set at the beginning of training, but that’s not actually the case. The\n",
        "validation error is computed at the end of each epoch, while the training error is\n",
        "computed using a running mean during each epoch, so the training curve should be\n",
        "shifted by half an epoch to the left. If you do that, you will see that the"
      ]
    },
    {
      "cell_type": "markdown",
      "id": "e7b68566-bbf4-4d8b-8fb8-5934e85f2753",
      "metadata": {
        "tags": [],
        "id": "e7b68566-bbf4-4d8b-8fb8-5934e85f2753"
      },
      "source": [
        "**7)** What is the accuracy of your model on the test set? Feel free to take any action needed to solve this problem."
      ]
    },
    {
      "cell_type": "code",
      "execution_count": null,
      "id": "88bf9645-f44b-4fd4-8766-d3971874efd1",
      "metadata": {
        "tags": [],
        "id": "88bf9645-f44b-4fd4-8766-d3971874efd1",
        "outputId": "7685f5eb-d91a-475b-9d66-b488d32b3b22"
      },
      "outputs": [
        {
          "name": "stdout",
          "output_type": "stream",
          "text": [
            "313/313 [==============================] - 0s 1ms/step - loss: 0.3795 - accuracy: 0.9747\n"
          ]
        },
        {
          "data": {
            "text/plain": [
              "[0.3794850707054138, 0.9746999740600586]"
            ]
          },
          "execution_count": 64,
          "metadata": {},
          "output_type": "execute_result"
        }
      ],
      "source": [
        "model.evaluate(X_test, y_test)"
      ]
    },
    {
      "cell_type": "markdown",
      "id": "ce9faeb5-aa33-4e9a-9c74-3c9d8288b5a7",
      "metadata": {
        "id": "ce9faeb5-aa33-4e9a-9c74-3c9d8288b5a7"
      },
      "source": [
        "As you saw in Chapter 2, it is common to get slightly lower performance on the test\n",
        "set than on the validation set, because the hyperparameters are tuned on the validation\n",
        "set, not the test set (however, in this example, we did not do any hyperparameter\n",
        "tuning, so the lower accuracy is just bad luck). Remember to resist the temptation to\n",
        "tweak the hyperparameters on the test set, or else your estimate of the generalization\n",
        "error will be too optimistic"
      ]
    },
    {
      "cell_type": "markdown",
      "id": "0edb80ac-3d46-4ed5-b324-d16728605bc1",
      "metadata": {
        "id": "0edb80ac-3d46-4ed5-b324-d16728605bc1"
      },
      "source": [
        "**EXTRA- PRDICTION**"
      ]
    },
    {
      "cell_type": "code",
      "execution_count": null,
      "id": "7ae9498f-045d-4f9d-b2c5-d10bf2dd96fc",
      "metadata": {
        "tags": [],
        "id": "7ae9498f-045d-4f9d-b2c5-d10bf2dd96fc",
        "outputId": "fa7870f2-aeb9-44c3-905e-ef5d73075b94"
      },
      "outputs": [
        {
          "name": "stdout",
          "output_type": "stream",
          "text": [
            "1/1 [==============================] - 0s 30ms/step\n"
          ]
        },
        {
          "data": {
            "text/plain": [
              "array([[0., 0., 0., 0., 0., 0., 0., 1., 0., 0.],\n",
              "       [0., 0., 1., 0., 0., 0., 0., 0., 0., 0.],\n",
              "       [0., 1., 0., 0., 0., 0., 0., 0., 0., 0.],\n",
              "       [1., 0., 0., 0., 0., 0., 0., 0., 0., 0.]], dtype=float32)"
            ]
          },
          "execution_count": 66,
          "metadata": {},
          "output_type": "execute_result"
        }
      ],
      "source": [
        "X_new = X_test[:4]\n",
        "y_proba = model.predict(X_new)\n",
        "y_proba.round(2)"
      ]
    },
    {
      "cell_type": "code",
      "execution_count": null,
      "id": "90bd77af-4c69-42e7-b3e7-6625dba7e03f",
      "metadata": {
        "tags": [],
        "id": "90bd77af-4c69-42e7-b3e7-6625dba7e03f",
        "outputId": "edc13f81-1024-4a20-9dde-b44895375eb8"
      },
      "outputs": [
        {
          "data": {
            "text/plain": [
              "array([7, 2, 1, 0])"
            ]
          },
          "execution_count": 67,
          "metadata": {},
          "output_type": "execute_result"
        }
      ],
      "source": [
        "import numpy as np\n",
        "class_names = [0, 1, 2, 3, 4, 5, 6, 7, 8, 9]\n",
        "then you can use the\n",
        "#argmax() method to get the highest probability class index for each instance\n",
        "y_pred = y_proba.argmax(axis=-1)\n",
        "y_pred\n",
        "np.array(class_names)[y_pred]\n",
        "#This is similar to the output of the predict_proba() method in Scikit-Learn"
      ]
    },
    {
      "cell_type": "code",
      "execution_count": null,
      "id": "26aff847-036a-43bd-a553-5121235b73e4",
      "metadata": {
        "id": "26aff847-036a-43bd-a553-5121235b73e4"
      },
      "outputs": [],
      "source": []
    }
  ],
  "metadata": {
    "kernelspec": {
      "display_name": "Python 3 (ipykernel)",
      "language": "python",
      "name": "python3"
    },
    "language_info": {
      "codemirror_mode": {
        "name": "ipython",
        "version": 3
      },
      "file_extension": ".py",
      "mimetype": "text/x-python",
      "name": "python",
      "nbconvert_exporter": "python",
      "pygments_lexer": "ipython3",
      "version": "3.10.9"
    },
    "colab": {
      "provenance": [],
      "toc_visible": true,
      "include_colab_link": true
    }
  },
  "nbformat": 4,
  "nbformat_minor": 5
}